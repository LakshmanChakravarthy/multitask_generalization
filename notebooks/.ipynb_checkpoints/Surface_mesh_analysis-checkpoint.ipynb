{
 "cells": [
  {
   "cell_type": "markdown",
   "id": "417341e0-c7b4-4e55-9d8d-2b1aba2648c1",
   "metadata": {},
   "source": [
    "# Finding neighbouring vertices in a mesh"
   ]
  },
  {
   "cell_type": "code",
   "execution_count": 1,
   "id": "4f7de028-ef60-439c-a6b7-b4f008de3236",
   "metadata": {},
   "outputs": [],
   "source": [
    "import nibabel as nib\n",
    "import numpy as np\n",
    "from tqdm import tqdm\n",
    "from joblib import Parallel, delayed\n",
    "\n",
    "# Load the standard surface mesh\n",
    "mesh_file_path = '/home/ln275/f_mc1689_1/AnalysisTools/ActflowToolbox/dependencies/ColeAnticevicNetPartition/'\n",
    "projdir = '/home/ln275/f_mc1689_1/multitask_generalization/'\n",
    "helpfiles_dir = projdir + 'docs/experimentfiles/'\n",
    "derivatives_dir = projdir + 'data/derivatives/surface/'\n",
    "\n",
    "def get_faces_coords_cortical_indices(hemisphere='R'):\n",
    "    \n",
    "    mesh_file = mesh_file_path + 'S1200.'+ hemisphere +'.midthickness_MSMAll.32k_fs_LR.surf.gii'\n",
    "    surf_img = nib.load(mesh_file)\n",
    "\n",
    "    # Get the coordinates (vertices) and faces (triangles)\n",
    "    coords = surf_img.agg_data('pointset')\n",
    "    faces = surf_img.agg_data('triangle')\n",
    "\n",
    "    # Load the atlas ROI file that defines the medial wall exclusion\n",
    "    # This file is typically named something like \"R.atlasroi.32k_fs_LR.shape.gii\"\n",
    "    # and is available in the HCP standard_mesh_atlases directory\n",
    "    roi_file = helpfiles_dir + hemisphere + '.atlasroi.32k_fs_LR.shape.gii'\n",
    "    roi_img = nib.load(roi_file)\n",
    "    roi_data = roi_img.agg_data()\n",
    "\n",
    "    # Create a mask of non-medial wall vertices (1 = cortex, 0 = medial wall)\n",
    "    cortex_mask = roi_data > 0\n",
    "\n",
    "    # Get the indices of cortical vertices (excluding medial wall)\n",
    "    cortical_indices = np.where(cortex_mask)[0]\n",
    "    \n",
    "    return faces, coords, cortical_indices"
   ]
  },
  {
   "cell_type": "code",
   "execution_count": 2,
   "id": "2e416627-efea-4382-a440-f3102b8d8691",
   "metadata": {},
   "outputs": [
    {
     "name": "stdout",
     "output_type": "stream",
     "text": [
      "left hemisphere vertices: 29696\n",
      "right hemisphere vertices: 29716\n"
     ]
    }
   ],
   "source": [
    "_, _, cortical_indices_L = get_faces_coords_cortical_indices(hemisphere='L')\n",
    "_, _, cortical_indices_R = get_faces_coords_cortical_indices(hemisphere='R')\n",
    "print('left hemisphere vertices:',len(cortical_indices_L))\n",
    "print('right hemisphere vertices:',len(cortical_indices_R))"
   ]
  },
  {
   "cell_type": "code",
   "execution_count": 2,
   "id": "9befecf0-f8e6-4c8a-8d7e-d7dc8a5df33e",
   "metadata": {},
   "outputs": [],
   "source": [
    "# Function to find neighbors for a given vertex index\n",
    "def get_vertex_neighbors_with_distances(faces, coords, vertex_index, cortical_indices=None, max_neighbors=6):\n",
    "    \"\"\"Find neighbors of a given vertex in a triangular mesh and calculate distances.\n",
    "    \n",
    "    Args:\n",
    "        faces: Array of triangle faces, shape (n_faces, 3)\n",
    "        coords: Array of vertex coordinates, shape (n_vertices, 3)\n",
    "        vertex_index: Index of the vertex to find neighbors for\n",
    "        cortical_indices: Indices of vertices that are part of the cortex (excluding medial wall)\n",
    "        max_neighbors: Maximum number of neighbors to return\n",
    "        \n",
    "    Returns:\n",
    "        tuple: (neighbor_indices, distances)\n",
    "    \"\"\"\n",
    "    # Find all faces containing this vertex\n",
    "    containing_faces = []\n",
    "    for i, face in enumerate(faces):\n",
    "        if vertex_index in face:\n",
    "            containing_faces.append(i)\n",
    "    \n",
    "    # Get all unique vertices in these faces\n",
    "    neighbors = set()\n",
    "    for face_idx in containing_faces:\n",
    "        face = faces[face_idx]\n",
    "        for v in face:\n",
    "            if v != vertex_index:\n",
    "                neighbors.add(v)\n",
    "    \n",
    "    # If we have cortical indices, filter neighbors to only include cortical vertices\n",
    "    if cortical_indices is not None:\n",
    "        cortical_set = set(cortical_indices)\n",
    "        neighbors = neighbors.intersection(cortical_set)\n",
    "    \n",
    "    # Calculate distances to each neighbor\n",
    "    neighbor_list = list(neighbors)\n",
    "    distances = []\n",
    "    \n",
    "    # Get the coordinates of the source vertex\n",
    "    source_coords = coords[vertex_index]\n",
    "    \n",
    "    for neighbor in neighbor_list:\n",
    "        # Get the coordinates of the neighbor vertex\n",
    "        neighbor_coords = coords[neighbor]\n",
    "        \n",
    "        # Calculate Euclidean distance (works for neighboring vertices as geodesic approximation)\n",
    "        dist = np.sqrt(np.sum((source_coords - neighbor_coords)**2))\n",
    "        distances.append(dist)\n",
    "    \n",
    "    # Sort by distance if needed and limit to max_neighbors\n",
    "    if len(neighbor_list) > max_neighbors:\n",
    "        sorted_indices = np.argsort(distances)\n",
    "        neighbor_list = [neighbor_list[i] for i in sorted_indices[:max_neighbors]]\n",
    "        distances = [distances[i] for i in sorted_indices[:max_neighbors]]\n",
    "    \n",
    "    return neighbor_list, distances\n",
    "\n",
    "# # Example usage for a cortical vertex (ensure the vertex is in the cortical mask)\n",
    "# # First choose a vertex that is known to be in the cortex\n",
    "# test_vertex = cortical_indices[1000]  # Just an example, pick a vertex from cortical indices\n",
    "# neighbors, distances = get_vertex_neighbors_with_distances(faces, coords, test_vertex, cortical_indices)"
   ]
  },
  {
   "cell_type": "code",
   "execution_count": 3,
   "id": "4d1e7bdf-2ecc-473e-b6ea-8b7632d6ad63",
   "metadata": {
    "tags": []
   },
   "outputs": [],
   "source": [
    "def process_vertex(vertidx, faces, coords, cortical_indices):\n",
    "    \"\"\"Process a single vertex and return its index and mean distance to neighbors\"\"\"\n",
    "    neighbors, distances = get_vertex_neighbors_with_distances(faces, coords, vertidx, cortical_indices)\n",
    "    return vertidx, np.mean(distances)\n",
    "\n",
    "def parallel_process_vertices_joblib(faces, coords, cortical_indices, n_jobs=-1):\n",
    "    \"\"\"Process all vertices in parallel using joblib\"\"\"\n",
    "    # Use joblib's Parallel\n",
    "    results = Parallel(n_jobs=n_jobs, verbose=1)(\n",
    "        delayed(process_vertex)(vertidx, faces, coords, cortical_indices) \n",
    "        for vertidx in range(len(cortical_indices))\n",
    "    )\n",
    "    \n",
    "    # Extract results\n",
    "    intervertex_dist = np.zeros(len(cortical_indices))\n",
    "    for vertidx, mean_dist in results:\n",
    "        intervertex_dist[vertidx] = mean_dist\n",
    "    \n",
    "    return intervertex_dist"
   ]
  },
  {
   "cell_type": "code",
   "execution_count": 4,
   "id": "9ebc9c85-cea7-41c0-914c-3b2db12098db",
   "metadata": {},
   "outputs": [
    {
     "name": "stderr",
     "output_type": "stream",
     "text": [
      "[Parallel(n_jobs=-1)]: Using backend LokyBackend with 16 concurrent workers.\n",
      "/projects/f_mc1689_1/AnalysisTools/anaconda3b/lib/python3.9/site-packages/numpy/core/fromnumeric.py:3474: RuntimeWarning: Mean of empty slice.\n",
      "  return _methods._mean(a, axis=axis, dtype=dtype,\n",
      "/projects/f_mc1689_1/AnalysisTools/anaconda3b/lib/python3.9/site-packages/numpy/core/_methods.py:189: RuntimeWarning: invalid value encountered in double_scalars\n",
      "  ret = ret.dtype.type(ret / rcount)\n",
      "[Parallel(n_jobs=-1)]: Done  18 tasks      | elapsed:    2.6s\n",
      "/projects/f_mc1689_1/AnalysisTools/anaconda3b/lib/python3.9/site-packages/numpy/core/fromnumeric.py:3474: RuntimeWarning: Mean of empty slice.\n",
      "  return _methods._mean(a, axis=axis, dtype=dtype,\n",
      "/projects/f_mc1689_1/AnalysisTools/anaconda3b/lib/python3.9/site-packages/numpy/core/fromnumeric.py:3474: RuntimeWarning: Mean of empty slice.\n",
      "  return _methods._mean(a, axis=axis, dtype=dtype,\n",
      "/projects/f_mc1689_1/AnalysisTools/anaconda3b/lib/python3.9/site-packages/numpy/core/_methods.py:189: RuntimeWarning: invalid value encountered in double_scalars\n",
      "  ret = ret.dtype.type(ret / rcount)\n",
      "/projects/f_mc1689_1/AnalysisTools/anaconda3b/lib/python3.9/site-packages/numpy/core/_methods.py:189: RuntimeWarning: invalid value encountered in double_scalars\n",
      "  ret = ret.dtype.type(ret / rcount)\n",
      "/projects/f_mc1689_1/AnalysisTools/anaconda3b/lib/python3.9/site-packages/numpy/core/fromnumeric.py:3474: RuntimeWarning: Mean of empty slice.\n",
      "  return _methods._mean(a, axis=axis, dtype=dtype,\n",
      "/projects/f_mc1689_1/AnalysisTools/anaconda3b/lib/python3.9/site-packages/numpy/core/_methods.py:189: RuntimeWarning: invalid value encountered in double_scalars\n",
      "  ret = ret.dtype.type(ret / rcount)\n",
      "/projects/f_mc1689_1/AnalysisTools/anaconda3b/lib/python3.9/site-packages/numpy/core/fromnumeric.py:3474: RuntimeWarning: Mean of empty slice.\n",
      "  return _methods._mean(a, axis=axis, dtype=dtype,\n",
      "/projects/f_mc1689_1/AnalysisTools/anaconda3b/lib/python3.9/site-packages/numpy/core/_methods.py:189: RuntimeWarning: invalid value encountered in double_scalars\n",
      "  ret = ret.dtype.type(ret / rcount)\n",
      "/projects/f_mc1689_1/AnalysisTools/anaconda3b/lib/python3.9/site-packages/numpy/core/fromnumeric.py:3474: RuntimeWarning: Mean of empty slice.\n",
      "  return _methods._mean(a, axis=axis, dtype=dtype,\n",
      "/projects/f_mc1689_1/AnalysisTools/anaconda3b/lib/python3.9/site-packages/numpy/core/_methods.py:189: RuntimeWarning: invalid value encountered in double_scalars\n",
      "  ret = ret.dtype.type(ret / rcount)\n",
      "/projects/f_mc1689_1/AnalysisTools/anaconda3b/lib/python3.9/site-packages/numpy/core/fromnumeric.py:3474: RuntimeWarning: Mean of empty slice.\n",
      "  return _methods._mean(a, axis=axis, dtype=dtype,\n",
      "/projects/f_mc1689_1/AnalysisTools/anaconda3b/lib/python3.9/site-packages/numpy/core/_methods.py:189: RuntimeWarning: invalid value encountered in double_scalars\n",
      "  ret = ret.dtype.type(ret / rcount)\n",
      "/projects/f_mc1689_1/AnalysisTools/anaconda3b/lib/python3.9/site-packages/numpy/core/fromnumeric.py:3474: RuntimeWarning: Mean of empty slice.\n",
      "  return _methods._mean(a, axis=axis, dtype=dtype,\n",
      "/projects/f_mc1689_1/AnalysisTools/anaconda3b/lib/python3.9/site-packages/numpy/core/_methods.py:189: RuntimeWarning: invalid value encountered in double_scalars\n",
      "  ret = ret.dtype.type(ret / rcount)\n",
      "/projects/f_mc1689_1/AnalysisTools/anaconda3b/lib/python3.9/site-packages/numpy/core/fromnumeric.py:3474: RuntimeWarning: Mean of empty slice.\n",
      "  return _methods._mean(a, axis=axis, dtype=dtype,\n",
      "/projects/f_mc1689_1/AnalysisTools/anaconda3b/lib/python3.9/site-packages/numpy/core/_methods.py:189: RuntimeWarning: invalid value encountered in double_scalars\n",
      "  ret = ret.dtype.type(ret / rcount)\n",
      "/projects/f_mc1689_1/AnalysisTools/anaconda3b/lib/python3.9/site-packages/numpy/core/fromnumeric.py:3474: RuntimeWarning: Mean of empty slice.\n",
      "  return _methods._mean(a, axis=axis, dtype=dtype,\n",
      "/projects/f_mc1689_1/AnalysisTools/anaconda3b/lib/python3.9/site-packages/numpy/core/_methods.py:189: RuntimeWarning: invalid value encountered in double_scalars\n",
      "  ret = ret.dtype.type(ret / rcount)\n",
      "/projects/f_mc1689_1/AnalysisTools/anaconda3b/lib/python3.9/site-packages/numpy/core/fromnumeric.py:3474: RuntimeWarning: Mean of empty slice.\n",
      "  return _methods._mean(a, axis=axis, dtype=dtype,\n",
      "/projects/f_mc1689_1/AnalysisTools/anaconda3b/lib/python3.9/site-packages/numpy/core/_methods.py:189: RuntimeWarning: invalid value encountered in double_scalars\n",
      "  ret = ret.dtype.type(ret / rcount)\n",
      "/projects/f_mc1689_1/AnalysisTools/anaconda3b/lib/python3.9/site-packages/numpy/core/fromnumeric.py:3474: RuntimeWarning: Mean of empty slice.\n",
      "  return _methods._mean(a, axis=axis, dtype=dtype,\n",
      "/projects/f_mc1689_1/AnalysisTools/anaconda3b/lib/python3.9/site-packages/numpy/core/_methods.py:189: RuntimeWarning: invalid value encountered in double_scalars\n",
      "  ret = ret.dtype.type(ret / rcount)\n",
      "/projects/f_mc1689_1/AnalysisTools/anaconda3b/lib/python3.9/site-packages/numpy/core/fromnumeric.py:3474: RuntimeWarning: Mean of empty slice.\n",
      "  return _methods._mean(a, axis=axis, dtype=dtype,\n",
      "/projects/f_mc1689_1/AnalysisTools/anaconda3b/lib/python3.9/site-packages/numpy/core/_methods.py:189: RuntimeWarning: invalid value encountered in double_scalars\n",
      "  ret = ret.dtype.type(ret / rcount)\n",
      "/projects/f_mc1689_1/AnalysisTools/anaconda3b/lib/python3.9/site-packages/numpy/core/fromnumeric.py:3474: RuntimeWarning: Mean of empty slice.\n",
      "  return _methods._mean(a, axis=axis, dtype=dtype,\n",
      "/projects/f_mc1689_1/AnalysisTools/anaconda3b/lib/python3.9/site-packages/numpy/core/_methods.py:189: RuntimeWarning: invalid value encountered in double_scalars\n",
      "  ret = ret.dtype.type(ret / rcount)\n",
      "/projects/f_mc1689_1/AnalysisTools/anaconda3b/lib/python3.9/site-packages/numpy/core/fromnumeric.py:3474: RuntimeWarning: Mean of empty slice.\n",
      "  return _methods._mean(a, axis=axis, dtype=dtype,\n",
      "/projects/f_mc1689_1/AnalysisTools/anaconda3b/lib/python3.9/site-packages/numpy/core/_methods.py:189: RuntimeWarning: invalid value encountered in double_scalars\n",
      "  ret = ret.dtype.type(ret / rcount)\n",
      "/projects/f_mc1689_1/AnalysisTools/anaconda3b/lib/python3.9/site-packages/numpy/core/fromnumeric.py:3474: RuntimeWarning: Mean of empty slice.\n",
      "  return _methods._mean(a, axis=axis, dtype=dtype,\n",
      "/projects/f_mc1689_1/AnalysisTools/anaconda3b/lib/python3.9/site-packages/numpy/core/_methods.py:189: RuntimeWarning: invalid value encountered in double_scalars\n",
      "  ret = ret.dtype.type(ret / rcount)\n",
      "[Parallel(n_jobs=-1)]: Done 168 tasks      | elapsed:    4.7s\n",
      "[Parallel(n_jobs=-1)]: Done 418 tasks      | elapsed:    8.1s\n",
      "[Parallel(n_jobs=-1)]: Done 768 tasks      | elapsed:   12.9s\n",
      "[Parallel(n_jobs=-1)]: Done 1218 tasks      | elapsed:   19.0s\n",
      "[Parallel(n_jobs=-1)]: Done 1768 tasks      | elapsed:   26.6s\n",
      "[Parallel(n_jobs=-1)]: Done 2418 tasks      | elapsed:   35.5s\n",
      "[Parallel(n_jobs=-1)]: Done 3168 tasks      | elapsed:   45.8s\n",
      "[Parallel(n_jobs=-1)]: Done 4018 tasks      | elapsed:   57.5s\n",
      "[Parallel(n_jobs=-1)]: Done 4968 tasks      | elapsed:  1.2min\n",
      "[Parallel(n_jobs=-1)]: Done 6018 tasks      | elapsed:  1.4min\n",
      "[Parallel(n_jobs=-1)]: Done 7168 tasks      | elapsed:  1.7min\n",
      "[Parallel(n_jobs=-1)]: Done 8418 tasks      | elapsed:  2.0min\n",
      "[Parallel(n_jobs=-1)]: Done 9768 tasks      | elapsed:  2.3min\n",
      "[Parallel(n_jobs=-1)]: Done 11218 tasks      | elapsed:  2.6min\n",
      "[Parallel(n_jobs=-1)]: Done 12768 tasks      | elapsed:  3.0min\n",
      "[Parallel(n_jobs=-1)]: Done 14418 tasks      | elapsed:  3.3min\n",
      "[Parallel(n_jobs=-1)]: Done 16168 tasks      | elapsed:  3.7min\n",
      "[Parallel(n_jobs=-1)]: Done 18018 tasks      | elapsed:  4.2min\n",
      "[Parallel(n_jobs=-1)]: Done 19968 tasks      | elapsed:  4.6min\n",
      "[Parallel(n_jobs=-1)]: Done 22018 tasks      | elapsed:  5.1min\n",
      "[Parallel(n_jobs=-1)]: Done 24168 tasks      | elapsed:  5.6min\n",
      "[Parallel(n_jobs=-1)]: Done 26418 tasks      | elapsed:  6.1min\n",
      "[Parallel(n_jobs=-1)]: Done 28768 tasks      | elapsed:  6.6min\n",
      "[Parallel(n_jobs=-1)]: Done 29696 out of 29696 | elapsed:  6.8min finished\n"
     ]
    }
   ],
   "source": [
    "# Left hemisphere\n",
    "facesL, coordsL, cortical_indicesL = get_faces_coords_cortical_indices(hemisphere='L')\n",
    "\n",
    "# Use the joblib parallel function\n",
    "intervertex_distL = parallel_process_vertices_joblib(facesL, coordsL, cortical_indicesL)"
   ]
  },
  {
   "cell_type": "code",
   "execution_count": 5,
   "id": "c77a5d8c-c112-4e80-9c2f-199ca093af6e",
   "metadata": {},
   "outputs": [
    {
     "name": "stderr",
     "output_type": "stream",
     "text": [
      "[Parallel(n_jobs=-1)]: Using backend LokyBackend with 16 concurrent workers.\n",
      "[Parallel(n_jobs=-1)]: Done  18 tasks      | elapsed:    0.4s\n",
      "[Parallel(n_jobs=-1)]: Done 168 tasks      | elapsed:    2.4s\n",
      "[Parallel(n_jobs=-1)]: Done 418 tasks      | elapsed:    5.9s\n",
      "[Parallel(n_jobs=-1)]: Done 768 tasks      | elapsed:   10.7s\n",
      "[Parallel(n_jobs=-1)]: Done 1218 tasks      | elapsed:   16.8s\n",
      "[Parallel(n_jobs=-1)]: Done 1768 tasks      | elapsed:   24.4s\n",
      "[Parallel(n_jobs=-1)]: Done 2418 tasks      | elapsed:   33.3s\n",
      "[Parallel(n_jobs=-1)]: Done 3168 tasks      | elapsed:   43.6s\n",
      "[Parallel(n_jobs=-1)]: Done 4018 tasks      | elapsed:   55.3s\n",
      "[Parallel(n_jobs=-1)]: Done 4968 tasks      | elapsed:  1.1min\n",
      "[Parallel(n_jobs=-1)]: Done 6018 tasks      | elapsed:  1.4min\n",
      "[Parallel(n_jobs=-1)]: Done 7168 tasks      | elapsed:  1.6min\n",
      "[Parallel(n_jobs=-1)]: Done 8418 tasks      | elapsed:  1.9min\n",
      "[Parallel(n_jobs=-1)]: Done 9768 tasks      | elapsed:  2.2min\n",
      "[Parallel(n_jobs=-1)]: Done 11218 tasks      | elapsed:  2.6min\n",
      "[Parallel(n_jobs=-1)]: Done 12768 tasks      | elapsed:  2.9min\n",
      "[Parallel(n_jobs=-1)]: Done 14418 tasks      | elapsed:  3.3min\n",
      "[Parallel(n_jobs=-1)]: Done 16168 tasks      | elapsed:  3.7min\n",
      "[Parallel(n_jobs=-1)]: Done 18018 tasks      | elapsed:  4.1min\n",
      "[Parallel(n_jobs=-1)]: Done 19968 tasks      | elapsed:  4.6min\n",
      "[Parallel(n_jobs=-1)]: Done 22018 tasks      | elapsed:  5.0min\n",
      "[Parallel(n_jobs=-1)]: Done 24168 tasks      | elapsed:  5.5min\n",
      "[Parallel(n_jobs=-1)]: Done 26418 tasks      | elapsed:  6.1min\n",
      "[Parallel(n_jobs=-1)]: Done 28768 tasks      | elapsed:  6.6min\n",
      "[Parallel(n_jobs=-1)]: Done 29716 out of 29716 | elapsed:  6.8min finished\n"
     ]
    }
   ],
   "source": [
    "# Right hemisphere\n",
    "facesR, coordsR, cortical_indicesR = get_faces_coords_cortical_indices(hemisphere='R')\n",
    "\n",
    "# Use the joblib parallel function\n",
    "intervertex_distR = parallel_process_vertices_joblib(facesR, coordsR, cortical_indicesR)"
   ]
  },
  {
   "cell_type": "code",
   "execution_count": 7,
   "id": "807956b8-7434-4ab6-a732-3f6ee794d76f",
   "metadata": {},
   "outputs": [],
   "source": [
    "import pickle\n",
    "\n",
    "# Merge and save\n",
    "intervertex_dist_LR = np.hstack((intervertex_distL,intervertex_distR))\n",
    "\n",
    "with open(derivatives_dir + 'intervertex_dist_LR.pkl', 'wb') as f:\n",
    "    pickle.dump(intervertex_dist_LR,f)"
   ]
  },
  {
   "cell_type": "code",
   "execution_count": 8,
   "id": "c8e6779e-cd7e-4c0d-b0ce-59c292758670",
   "metadata": {},
   "outputs": [],
   "source": [
    "# Read back\n",
    "\n",
    "with open(derivatives_dir + 'intervertex_dist_LR.pkl', 'rb') as f:\n",
    "    intervertex_dist_LR = pickle.load(f)"
   ]
  },
  {
   "cell_type": "code",
   "execution_count": 9,
   "id": "463d413f-7514-43d0-9b1e-16b2cc5b5efa",
   "metadata": {},
   "outputs": [
    {
     "data": {
      "text/plain": [
       "(59412,)"
      ]
     },
     "execution_count": 9,
     "metadata": {},
     "output_type": "execute_result"
    }
   ],
   "source": [
    "intervertex_dist_LR.shape"
   ]
  },
  {
   "cell_type": "code",
   "execution_count": 10,
   "id": "b1147ee2-e5e8-4dcc-a54a-ed90ab7e1a95",
   "metadata": {},
   "outputs": [
    {
     "data": {
      "text/plain": [
       "(array([1.1600e+02, 8.9740e+03, 1.7165e+04, 1.9673e+04, 6.9580e+03,\n",
       "        1.2160e+03, 1.4800e+02, 3.9000e+01, 1.3000e+01, 1.4000e+01]),\n",
       " array([0.52996671, 0.83772219, 1.14547768, 1.45323316, 1.76098864,\n",
       "        2.06874412, 2.37649961, 2.68425509, 2.99201057, 3.29976605,\n",
       "        3.60752153]),\n",
       " <BarContainer object of 10 artists>)"
      ]
     },
     "execution_count": 10,
     "metadata": {},
     "output_type": "execute_result"
    },
    {
     "data": {
      "image/png": "[encoded data removed]",
      "text/plain": [
       "<Figure size 640x480 with 1 Axes>"
      ]
     },
     "metadata": {},
     "output_type": "display_data"
    }
   ],
   "source": [
    "import matplotlib.pyplot as plt\n",
    "\n",
    "plt.hist(intervertex_dist_LR)"
   ]
  },
  {
   "cell_type": "code",
   "execution_count": null,
   "id": "50503b18-217c-433d-a8ac-4251153b6549",
   "metadata": {},
   "outputs": [],
   "source": []
  }
 ],
 "metadata": {
  "kernelspec": {
   "display_name": "Python 3 (ipykernel)",
   "language": "python",
   "name": "python3"
  },
  "language_info": {
   "codemirror_mode": {
    "name": "ipython",
    "version": 3
   },
   "file_extension": ".py",
   "mimetype": "text/x-python",
   "name": "python",
   "nbconvert_exporter": "python",
   "pygments_lexer": "ipython3",
   "version": "3.9.7"
  }
 },
 "nbformat": 4,
 "nbformat_minor": 5
}
